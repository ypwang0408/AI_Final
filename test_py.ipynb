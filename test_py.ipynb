{
  "nbformat": 4,
  "nbformat_minor": 0,
  "metadata": {
    "colab": {
      "name": "test.py",
      "private_outputs": true,
      "provenance": [],
      "collapsed_sections": [],
      "include_colab_link": true
    },
    "kernelspec": {
      "name": "python3",
      "display_name": "Python 3"
    },
    "language_info": {
      "name": "python"
    },
    "accelerator": "GPU"
  },
  "cells": [
    {
      "cell_type": "markdown",
      "metadata": {
        "id": "view-in-github",
        "colab_type": "text"
      },
      "source": [
        "<a href=\"https://colab.research.google.com/github/ypwang0408/AI_Final/blob/main/test_py.ipynb\" target=\"_parent\"><img src=\"https://colab.research.google.com/assets/colab-badge.svg\" alt=\"Open In Colab\"/></a>"
      ]
    },
    {
      "cell_type": "code",
      "execution_count": null,
      "metadata": {
        "id": "2XV0IAcIzl8F"
      },
      "outputs": [],
      "source": [
        "from sklearn.metrics import accuracy_score\n",
        "import numpy as np\n",
        "import pandas as pd\n",
        "import matplotlib.pyplot as plt\n",
        "import cv2\n",
        "import tensorflow as tf\n",
        "from PIL import Image\n",
        "import os\n",
        "from sklearn.model_selection import train_test_split\n",
        "from tensorflow.keras.utils import to_categorical\n",
        "from tensorflow.keras.models import Sequential, load_model\n",
        "from tensorflow.keras.layers import Conv2D, MaxPool2D, Dense, Flatten, Dropout\n",
        "import csv"
      ]
    },
    {
      "cell_type": "markdown",
      "source": [
        ""
      ],
      "metadata": {
        "id": "JpY4-XZ-zogN"
      }
    },
    {
      "cell_type": "code",
      "source": [
        "from google.colab import drive\n",
        "drive.mount('/content/drive')"
      ],
      "metadata": {
        "id": "8HwWd15E2tG4"
      },
      "execution_count": null,
      "outputs": []
    },
    {
      "cell_type": "code",
      "source": [
        "model = load_model('/content/drive/MyDrive/AI_Final/model.h5')\n",
        "y_test = pd.read_csv('/content/drive/MyDrive/AI_Final/archive/Test.csv')\n",
        "\n",
        "labels = y_test[\"ClassId\"].values\n",
        "imgs = y_test[\"Path\"].values\n",
        "confusion_matrix = np.zeros((43, 43), dtype=int)\n",
        "confusion_matrix = confusion_matrix.tolist()\n",
        "data = []\n",
        "\n",
        "for img in imgs:\n",
        "    print(img)\n",
        "    image = Image.open('/content/drive/MyDrive/AI_Final/archive/'+img)\n",
        "    image = image.resize((30, 30))\n",
        "    data.append(np.array(image))\n",
        "\n",
        "X_test = np.array(data)\n",
        "\n",
        "pred = model.predict(X_test)\n",
        "pred = np.argmax(model.predict(X_test), axis=1)\n",
        "\n",
        "for a, b in zip(labels, pred):\n",
        "    confusion_matrix[a][b] += 1\n",
        "with open('/content/drive/MyDrive/AI_Final/cf_matrix.csv', 'w', newline='') as csvfile:\n",
        "    writer = csv.writer(csvfile)\n",
        "    for row in confusion_matrix:\n",
        "        writer.writerow(row+[\"total:\"+str(int(arr[idx]))] +\n",
        "                        [\"accuracy:\"+str(row[idx]/arr[idx])])\n",
        "    writer.writerow(['Total accuracy:', accuracy_score(labels, pred)])\n",
        "# Accuracy with the test data\n",
        "print(accuracy_score(labels, pred))\n"
      ],
      "metadata": {
        "id": "K4SGmkKEHDL-"
      },
      "execution_count": null,
      "outputs": []
    }
  ]
}